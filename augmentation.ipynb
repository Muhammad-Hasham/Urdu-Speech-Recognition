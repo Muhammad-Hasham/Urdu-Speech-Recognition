{
  "nbformat": 4,
  "nbformat_minor": 0,
  "metadata": {
    "colab": {
      "provenance": []
    },
    "kernelspec": {
      "name": "python3",
      "display_name": "Python 3"
    },
    "language_info": {
      "name": "python"
    }
  },
  "cells": [
    {
      "cell_type": "code",
      "execution_count": null,
      "metadata": {
        "id": "dFcAIGEfQn84"
      },
      "outputs": [],
      "source": [
        "#Muhammad Hasham Ul Haq\n",
        "#i200752@nu.edu.pk\n",
        "import os\n",
        "import numpy as np\n",
        "import librosa\n",
        "import soundfile as sf\n"
      ]
    },
    {
      "cell_type": "code",
      "source": [
        "def add_noise(data):\n",
        "    noise = np.random.randn(len(data))\n",
        "    augmented_data = data + 0.005 * noise\n",
        "\n",
        "    augmented_data = augmented_data.astype(type(data[0]))\n",
        "    return augmented_data\n",
        "\n",
        "def change_speed(data, speed_factor):\n",
        "    return librosa.effects.time_stretch(data, speed_factor)\n",
        "\n",
        "def change_pitch(data, sampling_rate, pitch_factor):\n",
        "    return librosa.effects.pitch_shift(data, sampling_rate, pitch_factor)\n",
        "\n",
        "def save_augmented_data(data, sr, file_path, augmentation_type):\n",
        "    base, ext = os.path.splitext(file_path)\n",
        "    new_file_path = f\"{base}_{augmentation_type}{ext}\"\n",
        "\n",
        "    sf.write(new_file_path, data, sr)\n",
        "    return new_file_path"
      ],
      "metadata": {
        "id": "PLxl0bCkQvTw"
      },
      "execution_count": null,
      "outputs": []
    },
    {
      "cell_type": "code",
      "source": [
        "file_paths = ['d56e1f22-3f2c-4f43-a8d6-52420b5efb2f.wav']\n",
        "\n",
        "for file_path in file_paths:\n",
        "    data, sampling_rate = librosa.load(file_path, sr=None)\n",
        "\n",
        "    noisy_data = add_noise(data)\n",
        "    noisy_file_path = save_augmented_data(noisy_data, sampling_rate, file_path, 'noise')\n",
        "\n",
        "    fast_data = change_speed(data, 1.25)\n",
        "    fast_file_path = save_augmented_data(fast_data, sampling_rate, file_path, 'fast')\n",
        "\n",
        "    high_pitch_data = change_pitch(data, sampling_rate, 2)\n",
        "    high_pitch_file_path = save_augmented_data(high_pitch_data, sampling_rate, file_path, 'highpitch')\n",
        "\n",
        "    print(f\"Saved augmented files: {noisy_file_path}, {fast_file_path}, {high_pitch_file_path}\")\n"
      ],
      "metadata": {
        "id": "Zv6uyiZNQzWm"
      },
      "execution_count": null,
      "outputs": []
    }
  ]
}