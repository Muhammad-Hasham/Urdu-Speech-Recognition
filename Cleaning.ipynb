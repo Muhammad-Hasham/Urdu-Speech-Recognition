{
  "nbformat": 4,
  "nbformat_minor": 0,
  "metadata": {
    "colab": {
      "provenance": []
    },
    "kernelspec": {
      "name": "python3",
      "display_name": "Python 3"
    },
    "language_info": {
      "name": "python"
    }
  },
  "cells": [
    {
      "cell_type": "code",
      "execution_count": 1,
      "metadata": {
        "id": "rQE7YSVnNozW"
      },
      "outputs": [],
      "source": [
        "#Muhammad Hasham Ul Haq\n",
        "#i200752@nu.edu.pk\n",
        "import pandas as pd\n",
        "\n",
        "# Replace 'your_file.csv' with the actual path to your input CSV file\n",
        "input_csv_file = 'Combined.csv'\n",
        "output_csv_file = 'cleaned_file.csv'\n",
        "\n",
        "# Read the CSV file into a DataFrame\n",
        "df = pd.read_csv(input_csv_file, header=None)  # Assuming there is no header row\n"
      ]
    },
    {
      "cell_type": "code",
      "source": [
        "# Check the number of columns to ensure you rename correctly\n",
        "print(f\"Original columns: {df.columns}\")\n",
        "\n",
        "# If there are more than 2 columns, you might need to adjust this\n",
        "if len(df.columns) >= 2:\n",
        "    # Rename the columns assuming the first is 'audio_file' and the second is 'transcript'\n",
        "    df.columns = ['audio_file', 'transcript'] + df.columns.tolist()[2:]\n",
        "\n",
        "    # Now filter out rows where 'transcript' is missing (assuming empty strings or NaN)\n",
        "    df_cleaned = df.dropna(subset=['transcript'])  # Drop rows with NaN in 'transcript'\n",
        "    df_cleaned = df_cleaned[df_cleaned['transcript'].str.strip().astype(bool)]  # Drop rows with empty strings\n"
      ],
      "metadata": {
        "id": "Tv_16LxiOS3g"
      },
      "execution_count": null,
      "outputs": []
    },
    {
      "cell_type": "code",
      "source": [
        "    # Write the cleaned DataFrame to a new CSV file\n",
        "    df_cleaned.to_csv(output_csv_file, index=False, header=False)  # No index and no header\n",
        "    print(f\"Cleaned data written to {output_csv_file}\")\n",
        "else:\n",
        "    print(\"The DataFrame does not have the expected number of columns.\")\n"
      ],
      "metadata": {
        "id": "KMQEr4PsOZCl"
      },
      "execution_count": null,
      "outputs": []
    }
  ]
}